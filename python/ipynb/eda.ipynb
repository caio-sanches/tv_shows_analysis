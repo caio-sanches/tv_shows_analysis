{
 "cells": [
  {
   "cell_type": "markdown",
   "metadata": {},
   "source": [
    "#### Imports and path"
   ]
  },
  {
   "cell_type": "code",
   "execution_count": 1,
   "metadata": {},
   "outputs": [],
   "source": [
    "import pandas as pd\n",
    "import numpy as np\n",
    "import seaborn as sns\n",
    "import matplotlib as plt"
   ]
  },
  {
   "cell_type": "code",
   "execution_count": 2,
   "metadata": {},
   "outputs": [],
   "source": [
    "input_path = r'C:\\Users\\caios\\OneDrive\\Documentos\\Study\\repo-github\\tv_shows_analysis\\data_files'"
   ]
  },
  {
   "cell_type": "markdown",
   "metadata": {},
   "source": [
    "#### Loading the data"
   ]
  },
  {
   "cell_type": "code",
   "execution_count": 3,
   "metadata": {},
   "outputs": [],
   "source": [
    "# Credits files\n",
    "disney_credits = pd.read_csv(f'{input_path}/disney_plus/credits.csv')\n",
    "hbo_credits = pd.read_csv(f'{input_path}/hbo_max/credits.csv')\n",
    "netflix_credits = pd.read_csv(f'{input_path}/netflix/credits.csv')\n",
    "prime_credits = pd.read_csv(f'{input_path}/prime_video/credits.csv')\n"
   ]
  },
  {
   "cell_type": "code",
   "execution_count": 4,
   "metadata": {},
   "outputs": [],
   "source": [
    "# Titles files\n",
    "disney_titles = pd.read_csv(f'{input_path}/disney_plus/titles.csv')\n",
    "hbo_titles = pd.read_csv(f'{input_path}/hbo_max/titles.csv')\n",
    "netflix_titles = pd.read_csv(f'{input_path}/netflix/titles.csv')\n",
    "prime_titles = pd.read_csv(f'{input_path}/prime_video/titles.csv')"
   ]
  },
  {
   "cell_type": "code",
   "execution_count": 5,
   "metadata": {},
   "outputs": [],
   "source": [
    "def replacing_strings(df):\n",
    "    \"\"\"This function it suits to treat some strings erros\"\"\"\n",
    "    df = df.replace('\\t', '', regex=True)\n",
    "    df = df.replace('\\;', ' ', regex=True)\n",
    "    df = df.replace('\\n;', ' ', regex=True)\n",
    "    df = df.replace('\\n;', ' ', regex=True)\n",
    "    df = df.replace('\\\\n', ' ', regex=True)\n",
    "    df = df.replace('\\s', ' ', regex=True)\n",
    "\n",
    "    return df"
   ]
  },
  {
   "cell_type": "code",
   "execution_count": 6,
   "metadata": {},
   "outputs": [],
   "source": [
    "list_credits = [hbo_credits, netflix_credits, prime_credits]\n",
    "final_credits = pd.DataFrame(disney_credits)\n",
    "\n",
    "\n",
    "for i in range(len(list_credits)):\n",
    "    final_credits = pd.concat([final_credits, list_credits[i]], ignore_index=True)\n",
    "\n",
    "final_credits = replacing_strings(final_credits)"
   ]
  },
  {
   "cell_type": "code",
   "execution_count": 7,
   "metadata": {},
   "outputs": [],
   "source": [
    "list_titles = [hbo_titles, netflix_titles, prime_titles]\n",
    "final_titles = pd.DataFrame(disney_titles)\n",
    "\n",
    "\n",
    "for i in range(len(list_titles)):\n",
    "    final_titles = pd.concat([final_titles, list_titles[i]], ignore_index=True)\n",
    "\n",
    "final_titles = replacing_strings(final_titles)"
   ]
  },
  {
   "cell_type": "markdown",
   "metadata": {},
   "source": [
    "#### EDA"
   ]
  },
  {
   "cell_type": "markdown",
   "metadata": {},
   "source": [
    "##### Basic information"
   ]
  },
  {
   "cell_type": "code",
   "execution_count": 8,
   "metadata": {},
   "outputs": [
    {
     "name": "stdout",
     "output_type": "stream",
     "text": [
      "<class 'pandas.core.frame.DataFrame'>\n",
      "RangeIndex: 294253 entries, 0 to 294252\n",
      "Data columns (total 5 columns):\n",
      " #   Column     Non-Null Count   Dtype \n",
      "---  ------     --------------   ----- \n",
      " 0   person_id  294253 non-null  int64 \n",
      " 1   id         294253 non-null  object\n",
      " 2   name       294253 non-null  object\n",
      " 3   character  262191 non-null  object\n",
      " 4   role       294253 non-null  object\n",
      "dtypes: int64(1), object(4)\n",
      "memory usage: 11.2+ MB\n"
     ]
    }
   ],
   "source": [
    "final_credits.info()"
   ]
  },
  {
   "cell_type": "code",
   "execution_count": 9,
   "metadata": {},
   "outputs": [
    {
     "name": "stdout",
     "output_type": "stream",
     "text": [
      "<class 'pandas.core.frame.DataFrame'>\n",
      "RangeIndex: 20506 entries, 0 to 20505\n",
      "Data columns (total 15 columns):\n",
      " #   Column                Non-Null Count  Dtype  \n",
      "---  ------                --------------  -----  \n",
      " 0   id                    20506 non-null  object \n",
      " 1   title                 20505 non-null  object \n",
      " 2   type                  20506 non-null  object \n",
      " 3   description           20351 non-null  object \n",
      " 4   release_year          20506 non-null  int64  \n",
      " 5   age_certification     9876 non-null   object \n",
      " 6   runtime               20506 non-null  int64  \n",
      " 7   genres                20506 non-null  object \n",
      " 8   production_countries  20506 non-null  object \n",
      " 9   seasons               4575 non-null   float64\n",
      " 10  imdb_id               18667 non-null  object \n",
      " 11  imdb_score            18163 non-null  float64\n",
      " 12  imdb_votes            18123 non-null  float64\n",
      " 13  tmdb_popularity       19821 non-null  float64\n",
      " 14  tmdb_score            17729 non-null  float64\n",
      "dtypes: float64(5), int64(2), object(8)\n",
      "memory usage: 2.3+ MB\n"
     ]
    }
   ],
   "source": [
    "final_titles.info()"
   ]
  },
  {
   "cell_type": "code",
   "execution_count": 10,
   "metadata": {},
   "outputs": [
    {
     "data": {
      "text/plain": [
       "count     294253.00000\n",
       "mean      410196.01958\n",
       "std       574034.32148\n",
       "min            1.00000\n",
       "25%        27791.00000\n",
       "50%       110447.00000\n",
       "75%       601235.00000\n",
       "max      2371585.00000\n",
       "Name: person_id, dtype: object"
      ]
     },
     "execution_count": 10,
     "metadata": {},
     "output_type": "execute_result"
    }
   ],
   "source": [
    "# Changing the float format from output\n",
    "final_credits['person_id'].describe().apply(\"{0:.5f}\".format)"
   ]
  },
  {
   "cell_type": "code",
   "execution_count": 11,
   "metadata": {},
   "outputs": [
    {
     "data": {
      "text/html": [
       "<div>\n",
       "<style scoped>\n",
       "    .dataframe tbody tr th:only-of-type {\n",
       "        vertical-align: middle;\n",
       "    }\n",
       "\n",
       "    .dataframe tbody tr th {\n",
       "        vertical-align: top;\n",
       "    }\n",
       "\n",
       "    .dataframe thead th {\n",
       "        text-align: right;\n",
       "    }\n",
       "</style>\n",
       "<table border=\"1\" class=\"dataframe\">\n",
       "  <thead>\n",
       "    <tr style=\"text-align: right;\">\n",
       "      <th></th>\n",
       "      <th>release_year</th>\n",
       "      <th>runtime</th>\n",
       "      <th>seasons</th>\n",
       "      <th>imdb_score</th>\n",
       "      <th>imdb_votes</th>\n",
       "      <th>tmdb_popularity</th>\n",
       "      <th>tmdb_score</th>\n",
       "    </tr>\n",
       "  </thead>\n",
       "  <tbody>\n",
       "    <tr>\n",
       "      <th>count</th>\n",
       "      <td>20506.000000</td>\n",
       "      <td>20506.000000</td>\n",
       "      <td>4575.000000</td>\n",
       "      <td>18163.000000</td>\n",
       "      <td>1.812300e+04</td>\n",
       "      <td>19821.000000</td>\n",
       "      <td>17729.000000</td>\n",
       "    </tr>\n",
       "    <tr>\n",
       "      <th>mean</th>\n",
       "      <td>2005.632547</td>\n",
       "      <td>80.870282</td>\n",
       "      <td>2.526776</td>\n",
       "      <td>6.322783</td>\n",
       "      <td>2.599976e+04</td>\n",
       "      <td>16.308313</td>\n",
       "      <td>6.465102</td>\n",
       "    </tr>\n",
       "    <tr>\n",
       "      <th>std</th>\n",
       "      <td>22.426010</td>\n",
       "      <td>37.231306</td>\n",
       "      <td>3.369027</td>\n",
       "      <td>1.284135</td>\n",
       "      <td>1.043554e+05</td>\n",
       "      <td>92.292064</td>\n",
       "      <td>1.379300</td>\n",
       "    </tr>\n",
       "    <tr>\n",
       "      <th>min</th>\n",
       "      <td>1901.000000</td>\n",
       "      <td>0.000000</td>\n",
       "      <td>1.000000</td>\n",
       "      <td>1.100000</td>\n",
       "      <td>5.000000e+00</td>\n",
       "      <td>0.000011</td>\n",
       "      <td>0.500000</td>\n",
       "    </tr>\n",
       "    <tr>\n",
       "      <th>25%</th>\n",
       "      <td>2004.000000</td>\n",
       "      <td>54.000000</td>\n",
       "      <td>1.000000</td>\n",
       "      <td>5.500000</td>\n",
       "      <td>2.150000e+02</td>\n",
       "      <td>1.839000</td>\n",
       "      <td>5.700000</td>\n",
       "    </tr>\n",
       "    <tr>\n",
       "      <th>50%</th>\n",
       "      <td>2016.000000</td>\n",
       "      <td>87.000000</td>\n",
       "      <td>1.000000</td>\n",
       "      <td>6.400000</td>\n",
       "      <td>1.201000e+03</td>\n",
       "      <td>4.483000</td>\n",
       "      <td>6.600000</td>\n",
       "    </tr>\n",
       "    <tr>\n",
       "      <th>75%</th>\n",
       "      <td>2019.000000</td>\n",
       "      <td>103.000000</td>\n",
       "      <td>3.000000</td>\n",
       "      <td>7.300000</td>\n",
       "      <td>7.750000e+03</td>\n",
       "      <td>11.622000</td>\n",
       "      <td>7.300000</td>\n",
       "    </tr>\n",
       "    <tr>\n",
       "      <th>max</th>\n",
       "      <td>2022.000000</td>\n",
       "      <td>549.000000</td>\n",
       "      <td>52.000000</td>\n",
       "      <td>9.900000</td>\n",
       "      <td>2.555504e+06</td>\n",
       "      <td>9323.832000</td>\n",
       "      <td>10.000000</td>\n",
       "    </tr>\n",
       "  </tbody>\n",
       "</table>\n",
       "</div>"
      ],
      "text/plain": [
       "       release_year       runtime      seasons    imdb_score    imdb_votes  \\\n",
       "count  20506.000000  20506.000000  4575.000000  18163.000000  1.812300e+04   \n",
       "mean    2005.632547     80.870282     2.526776      6.322783  2.599976e+04   \n",
       "std       22.426010     37.231306     3.369027      1.284135  1.043554e+05   \n",
       "min     1901.000000      0.000000     1.000000      1.100000  5.000000e+00   \n",
       "25%     2004.000000     54.000000     1.000000      5.500000  2.150000e+02   \n",
       "50%     2016.000000     87.000000     1.000000      6.400000  1.201000e+03   \n",
       "75%     2019.000000    103.000000     3.000000      7.300000  7.750000e+03   \n",
       "max     2022.000000    549.000000    52.000000      9.900000  2.555504e+06   \n",
       "\n",
       "       tmdb_popularity    tmdb_score  \n",
       "count     19821.000000  17729.000000  \n",
       "mean         16.308313      6.465102  \n",
       "std          92.292064      1.379300  \n",
       "min           0.000011      0.500000  \n",
       "25%           1.839000      5.700000  \n",
       "50%           4.483000      6.600000  \n",
       "75%          11.622000      7.300000  \n",
       "max        9323.832000     10.000000  "
      ]
     },
     "execution_count": 11,
     "metadata": {},
     "output_type": "execute_result"
    }
   ],
   "source": [
    "final_titles.describe()"
   ]
  },
  {
   "cell_type": "code",
   "execution_count": 12,
   "metadata": {},
   "outputs": [
    {
     "data": {
      "text/plain": [
       "count      18123.00000\n",
       "mean       25999.76008\n",
       "std       104355.35592\n",
       "min            5.00000\n",
       "25%          215.00000\n",
       "50%         1201.00000\n",
       "75%         7750.00000\n",
       "max      2555504.00000\n",
       "Name: imdb_votes, dtype: object"
      ]
     },
     "execution_count": 12,
     "metadata": {},
     "output_type": "execute_result"
    }
   ],
   "source": [
    "final_titles['imdb_votes'].describe().apply(\"{0:.5f}\".format)"
   ]
  },
  {
   "cell_type": "code",
   "execution_count": 13,
   "metadata": {},
   "outputs": [
    {
     "data": {
      "text/plain": [
       "Index(['person_id', 'id', 'name', 'character', 'role'], dtype='object')"
      ]
     },
     "execution_count": 13,
     "metadata": {},
     "output_type": "execute_result"
    }
   ],
   "source": [
    "final_credits.columns"
   ]
  },
  {
   "cell_type": "code",
   "execution_count": 14,
   "metadata": {},
   "outputs": [
    {
     "data": {
      "text/plain": [
       "Index(['id', 'title', 'type', 'description', 'release_year',\n",
       "       'age_certification', 'runtime', 'genres', 'production_countries',\n",
       "       'seasons', 'imdb_id', 'imdb_score', 'imdb_votes', 'tmdb_popularity',\n",
       "       'tmdb_score'],\n",
       "      dtype='object')"
      ]
     },
     "execution_count": 14,
     "metadata": {},
     "output_type": "execute_result"
    }
   ],
   "source": [
    "final_titles.columns"
   ]
  },
  {
   "cell_type": "markdown",
   "metadata": {},
   "source": [
    "##### Duplicated Values"
   ]
  },
  {
   "cell_type": "code",
   "execution_count": 15,
   "metadata": {},
   "outputs": [
    {
     "data": {
      "text/plain": [
       "3860"
      ]
     },
     "execution_count": 15,
     "metadata": {},
     "output_type": "execute_result"
    }
   ],
   "source": [
    "final_credits.duplicated().sum()"
   ]
  },
  {
   "cell_type": "code",
   "execution_count": 16,
   "metadata": {},
   "outputs": [
    {
     "data": {
      "text/plain": [
       "227"
      ]
     },
     "execution_count": 16,
     "metadata": {},
     "output_type": "execute_result"
    }
   ],
   "source": [
    "final_titles.duplicated().sum()"
   ]
  },
  {
   "cell_type": "markdown",
   "metadata": {},
   "source": [
    "##### Unique Values"
   ]
  },
  {
   "cell_type": "code",
   "execution_count": 17,
   "metadata": {},
   "outputs": [
    {
     "data": {
      "text/plain": [
       "person_id    154504\n",
       "id            18638\n",
       "name         152291\n",
       "character    158860\n",
       "role              2\n",
       "dtype: int64"
      ]
     },
     "execution_count": 17,
     "metadata": {},
     "output_type": "execute_result"
    }
   ],
   "source": [
    "final_credits.nunique()"
   ]
  },
  {
   "cell_type": "code",
   "execution_count": 18,
   "metadata": {},
   "outputs": [
    {
     "data": {
      "text/plain": [
       "array(['ACTOR', 'DIRECTOR'], dtype=object)"
      ]
     },
     "execution_count": 18,
     "metadata": {},
     "output_type": "execute_result"
    }
   ],
   "source": [
    "final_credits['role'].unique()"
   ]
  },
  {
   "cell_type": "code",
   "execution_count": 19,
   "metadata": {},
   "outputs": [
    {
     "data": {
      "text/plain": [
       "id                      20276\n",
       "title                   19763\n",
       "type                        2\n",
       "description             20099\n",
       "release_year              116\n",
       "age_certification          11\n",
       "runtime                   230\n",
       "genres                   3928\n",
       "production_countries      949\n",
       "seasons                    38\n",
       "imdb_id                 18450\n",
       "imdb_score                 87\n",
       "imdb_votes               8433\n",
       "tmdb_popularity         11402\n",
       "tmdb_score                 90\n",
       "dtype: int64"
      ]
     },
     "execution_count": 19,
     "metadata": {},
     "output_type": "execute_result"
    }
   ],
   "source": [
    "final_titles.nunique()"
   ]
  },
  {
   "cell_type": "code",
   "execution_count": 20,
   "metadata": {},
   "outputs": [
    {
     "data": {
      "text/plain": [
       "array(['MOVIE', 'SHOW'], dtype=object)"
      ]
     },
     "execution_count": 20,
     "metadata": {},
     "output_type": "execute_result"
    }
   ],
   "source": [
    "final_titles['type'].unique()"
   ]
  },
  {
   "cell_type": "code",
   "execution_count": 21,
   "metadata": {},
   "outputs": [
    {
     "data": {
      "text/plain": [
       "array(['G', 'PG', nan, 'TV-G', 'TV-PG', 'TV-14', 'PG-13', 'TV-Y7', 'TV-Y',\n",
       "       'TV-MA', 'R', 'NC-17'], dtype=object)"
      ]
     },
     "execution_count": 21,
     "metadata": {},
     "output_type": "execute_result"
    }
   ],
   "source": [
    "final_titles['age_certification'].unique()"
   ]
  },
  {
   "cell_type": "code",
   "execution_count": 22,
   "metadata": {},
   "outputs": [
    {
     "data": {
      "text/plain": [
       "array([nan,  5.,  7.,  3.,  1., 34., 32.,  4.,  6.,  2.,  8.,  9., 11.,\n",
       "       20., 18., 10., 16., 52., 25., 15., 12., 28., 14., 31., 26., 13.,\n",
       "       17., 24., 39., 42., 21., 37., 29., 19., 49., 51., 22., 35., 33.])"
      ]
     },
     "execution_count": 22,
     "metadata": {},
     "output_type": "execute_result"
    }
   ],
   "source": [
    "final_titles['seasons'].unique()"
   ]
  },
  {
   "cell_type": "markdown",
   "metadata": {},
   "source": [
    "##### Visualize unique counts"
   ]
  },
  {
   "cell_type": "code",
   "execution_count": 23,
   "metadata": {},
   "outputs": [
    {
     "data": {
      "text/plain": [
       "<AxesSubplot:xlabel='role', ylabel='count'>"
      ]
     },
     "execution_count": 23,
     "metadata": {},
     "output_type": "execute_result"
    },
    {
     "data": {
      "image/png": "[encoded data removed]",
      "text/plain": [
       "<Figure size 432x288 with 1 Axes>"
      ]
     },
     "metadata": {
      "needs_background": "light"
     },
     "output_type": "display_data"
    }
   ],
   "source": [
    "sns.countplot(x='role', data=final_credits)"
   ]
  },
  {
   "cell_type": "code",
   "execution_count": 24,
   "metadata": {},
   "outputs": [
    {
     "data": {
      "text/plain": [
       "<AxesSubplot:xlabel='type', ylabel='count'>"
      ]
     },
     "execution_count": 24,
     "metadata": {},
     "output_type": "execute_result"
    },
    {
     "data": {
      "image/png": "[encoded data removed]",
      "text/plain": [
       "<Figure size 432x288 with 1 Axes>"
      ]
     },
     "metadata": {
      "needs_background": "light"
     },
     "output_type": "display_data"
    }
   ],
   "source": [
    "sns.countplot(x='type', data=final_titles)"
   ]
  },
  {
   "cell_type": "code",
   "execution_count": 25,
   "metadata": {},
   "outputs": [
    {
     "data": {
      "text/plain": [
       "<AxesSubplot:xlabel='count', ylabel='age_certification'>"
      ]
     },
     "execution_count": 25,
     "metadata": {},
     "output_type": "execute_result"
    },
    {
     "data": {
      "image/png": "[encoded data removed]",
      "text/plain": [
       "<Figure size 432x288 with 1 Axes>"
      ]
     },
     "metadata": {
      "needs_background": "light"
     },
     "output_type": "display_data"
    }
   ],
   "source": [
    "sns.countplot(y='age_certification', data=final_titles)"
   ]
  },
  {
   "cell_type": "markdown",
   "metadata": {},
   "source": [
    "#### Find the null values"
   ]
  },
  {
   "cell_type": "code",
   "execution_count": 26,
   "metadata": {},
   "outputs": [
    {
     "data": {
      "text/plain": [
       "person_id        0\n",
       "id               0\n",
       "name             0\n",
       "character    32062\n",
       "role             0\n",
       "dtype: int64"
      ]
     },
     "execution_count": 26,
     "metadata": {},
     "output_type": "execute_result"
    }
   ],
   "source": [
    "final_credits.isnull().sum()"
   ]
  },
  {
   "cell_type": "code",
   "execution_count": 27,
   "metadata": {},
   "outputs": [
    {
     "data": {
      "text/html": [
       "<div>\n",
       "<style scoped>\n",
       "    .dataframe tbody tr th:only-of-type {\n",
       "        vertical-align: middle;\n",
       "    }\n",
       "\n",
       "    .dataframe tbody tr th {\n",
       "        vertical-align: top;\n",
       "    }\n",
       "\n",
       "    .dataframe thead th {\n",
       "        text-align: right;\n",
       "    }\n",
       "</style>\n",
       "<table border=\"1\" class=\"dataframe\">\n",
       "  <thead>\n",
       "    <tr style=\"text-align: right;\">\n",
       "      <th></th>\n",
       "      <th>person_id</th>\n",
       "      <th>id</th>\n",
       "      <th>name</th>\n",
       "      <th>character</th>\n",
       "      <th>role</th>\n",
       "    </tr>\n",
       "  </thead>\n",
       "  <tbody>\n",
       "    <tr>\n",
       "      <th>4</th>\n",
       "      <td>23441</td>\n",
       "      <td>tm74391</td>\n",
       "      <td>Paul Satterfield</td>\n",
       "      <td>NaN</td>\n",
       "      <td>DIRECTOR</td>\n",
       "    </tr>\n",
       "    <tr>\n",
       "      <th>5</th>\n",
       "      <td>23442</td>\n",
       "      <td>tm74391</td>\n",
       "      <td>Hamilton Luske</td>\n",
       "      <td>NaN</td>\n",
       "      <td>DIRECTOR</td>\n",
       "    </tr>\n",
       "    <tr>\n",
       "      <th>6</th>\n",
       "      <td>23443</td>\n",
       "      <td>tm74391</td>\n",
       "      <td>Jim Handley</td>\n",
       "      <td>NaN</td>\n",
       "      <td>DIRECTOR</td>\n",
       "    </tr>\n",
       "    <tr>\n",
       "      <th>7</th>\n",
       "      <td>6164</td>\n",
       "      <td>tm74391</td>\n",
       "      <td>Ford Beebe</td>\n",
       "      <td>NaN</td>\n",
       "      <td>DIRECTOR</td>\n",
       "    </tr>\n",
       "    <tr>\n",
       "      <th>8</th>\n",
       "      <td>23444</td>\n",
       "      <td>tm74391</td>\n",
       "      <td>T. Hee</td>\n",
       "      <td>NaN</td>\n",
       "      <td>DIRECTOR</td>\n",
       "    </tr>\n",
       "    <tr>\n",
       "      <th>...</th>\n",
       "      <td>...</td>\n",
       "      <td>...</td>\n",
       "      <td>...</td>\n",
       "      <td>...</td>\n",
       "      <td>...</td>\n",
       "    </tr>\n",
       "    <tr>\n",
       "      <th>294244</th>\n",
       "      <td>241498</td>\n",
       "      <td>tm847725</td>\n",
       "      <td>Super Subbarayan</td>\n",
       "      <td>NaN</td>\n",
       "      <td>ACTOR</td>\n",
       "    </tr>\n",
       "    <tr>\n",
       "      <th>294245</th>\n",
       "      <td>1288659</td>\n",
       "      <td>tm847725</td>\n",
       "      <td>Mathialagan Muniandy</td>\n",
       "      <td>NaN</td>\n",
       "      <td>ACTOR</td>\n",
       "    </tr>\n",
       "    <tr>\n",
       "      <th>294246</th>\n",
       "      <td>172842</td>\n",
       "      <td>tm847725</td>\n",
       "      <td>Sona Heiden</td>\n",
       "      <td>NaN</td>\n",
       "      <td>ACTOR</td>\n",
       "    </tr>\n",
       "    <tr>\n",
       "      <th>294247</th>\n",
       "      <td>1288705</td>\n",
       "      <td>tm847725</td>\n",
       "      <td>K. Veerakumar</td>\n",
       "      <td>NaN</td>\n",
       "      <td>DIRECTOR</td>\n",
       "    </tr>\n",
       "    <tr>\n",
       "      <th>294252</th>\n",
       "      <td>1938620</td>\n",
       "      <td>tm1054116</td>\n",
       "      <td>Vishwa Bhanu</td>\n",
       "      <td>NaN</td>\n",
       "      <td>DIRECTOR</td>\n",
       "    </tr>\n",
       "  </tbody>\n",
       "</table>\n",
       "<p>32062 rows × 5 columns</p>\n",
       "</div>"
      ],
      "text/plain": [
       "        person_id         id                  name character      role\n",
       "4           23441    tm74391      Paul Satterfield       NaN  DIRECTOR\n",
       "5           23442    tm74391        Hamilton Luske       NaN  DIRECTOR\n",
       "6           23443    tm74391           Jim Handley       NaN  DIRECTOR\n",
       "7            6164    tm74391            Ford Beebe       NaN  DIRECTOR\n",
       "8           23444    tm74391                T. Hee       NaN  DIRECTOR\n",
       "...           ...        ...                   ...       ...       ...\n",
       "294244     241498   tm847725      Super Subbarayan       NaN     ACTOR\n",
       "294245    1288659   tm847725  Mathialagan Muniandy       NaN     ACTOR\n",
       "294246     172842   tm847725           Sona Heiden       NaN     ACTOR\n",
       "294247    1288705   tm847725         K. Veerakumar       NaN  DIRECTOR\n",
       "294252    1938620  tm1054116          Vishwa Bhanu       NaN  DIRECTOR\n",
       "\n",
       "[32062 rows x 5 columns]"
      ]
     },
     "execution_count": 27,
     "metadata": {},
     "output_type": "execute_result"
    }
   ],
   "source": [
    "final_credits[final_credits['character'].isna()]"
   ]
  },
  {
   "cell_type": "code",
   "execution_count": 72,
   "metadata": {},
   "outputs": [
    {
     "data": {
      "text/plain": [
       "id                          0\n",
       "title                       1\n",
       "type                        0\n",
       "description               155\n",
       "release_year                0\n",
       "age_certification       10630\n",
       "runtime                     0\n",
       "genres                      0\n",
       "production_countries        0\n",
       "seasons                 15931\n",
       "imdb_id                  1839\n",
       "imdb_score               2343\n",
       "imdb_votes               2383\n",
       "tmdb_popularity           685\n",
       "tmdb_score               2777\n",
       "dtype: int64"
      ]
     },
     "execution_count": 72,
     "metadata": {},
     "output_type": "execute_result"
    }
   ],
   "source": [
    "final_titles.isnull().sum()"
   ]
  },
  {
   "cell_type": "code",
   "execution_count": 28,
   "metadata": {},
   "outputs": [
    {
     "data": {
      "text/html": [
       "<div>\n",
       "<style scoped>\n",
       "    .dataframe tbody tr th:only-of-type {\n",
       "        vertical-align: middle;\n",
       "    }\n",
       "\n",
       "    .dataframe tbody tr th {\n",
       "        vertical-align: top;\n",
       "    }\n",
       "\n",
       "    .dataframe thead th {\n",
       "        text-align: right;\n",
       "    }\n",
       "</style>\n",
       "<table border=\"1\" class=\"dataframe\">\n",
       "  <thead>\n",
       "    <tr style=\"text-align: right;\">\n",
       "      <th></th>\n",
       "      <th>id</th>\n",
       "      <th>title</th>\n",
       "      <th>type</th>\n",
       "      <th>description</th>\n",
       "      <th>release_year</th>\n",
       "      <th>age_certification</th>\n",
       "      <th>runtime</th>\n",
       "      <th>genres</th>\n",
       "      <th>production_countries</th>\n",
       "      <th>seasons</th>\n",
       "      <th>imdb_id</th>\n",
       "      <th>imdb_score</th>\n",
       "      <th>imdb_votes</th>\n",
       "      <th>tmdb_popularity</th>\n",
       "      <th>tmdb_score</th>\n",
       "    </tr>\n",
       "  </thead>\n",
       "  <tbody>\n",
       "    <tr>\n",
       "      <th>6634</th>\n",
       "      <td>tm1063792</td>\n",
       "      <td>NaN</td>\n",
       "      <td>MOVIE</td>\n",
       "      <td>NaN</td>\n",
       "      <td>2015</td>\n",
       "      <td>NaN</td>\n",
       "      <td>11</td>\n",
       "      <td>[]</td>\n",
       "      <td>[]</td>\n",
       "      <td>NaN</td>\n",
       "      <td>tt4661188</td>\n",
       "      <td>NaN</td>\n",
       "      <td>NaN</td>\n",
       "      <td>NaN</td>\n",
       "      <td>NaN</td>\n",
       "    </tr>\n",
       "  </tbody>\n",
       "</table>\n",
       "</div>"
      ],
      "text/plain": [
       "             id title   type description  release_year age_certification  \\\n",
       "6634  tm1063792   NaN  MOVIE         NaN          2015               NaN   \n",
       "\n",
       "      runtime genres production_countries  seasons    imdb_id  imdb_score  \\\n",
       "6634       11     []                   []      NaN  tt4661188         NaN   \n",
       "\n",
       "      imdb_votes  tmdb_popularity  tmdb_score  \n",
       "6634         NaN              NaN         NaN  "
      ]
     },
     "execution_count": 28,
     "metadata": {},
     "output_type": "execute_result"
    }
   ],
   "source": [
    "final_titles[final_titles['title'].isna()]"
   ]
  },
  {
   "cell_type": "code",
   "execution_count": 30,
   "metadata": {},
   "outputs": [
    {
     "data": {
      "text/html": [
       "<div>\n",
       "<style scoped>\n",
       "    .dataframe tbody tr th:only-of-type {\n",
       "        vertical-align: middle;\n",
       "    }\n",
       "\n",
       "    .dataframe tbody tr th {\n",
       "        vertical-align: top;\n",
       "    }\n",
       "\n",
       "    .dataframe thead th {\n",
       "        text-align: right;\n",
       "    }\n",
       "</style>\n",
       "<table border=\"1\" class=\"dataframe\">\n",
       "  <thead>\n",
       "    <tr style=\"text-align: right;\">\n",
       "      <th></th>\n",
       "      <th>id</th>\n",
       "      <th>title</th>\n",
       "      <th>type</th>\n",
       "      <th>description</th>\n",
       "      <th>release_year</th>\n",
       "      <th>age_certification</th>\n",
       "      <th>runtime</th>\n",
       "      <th>genres</th>\n",
       "      <th>production_countries</th>\n",
       "      <th>seasons</th>\n",
       "      <th>imdb_id</th>\n",
       "      <th>imdb_score</th>\n",
       "      <th>imdb_votes</th>\n",
       "      <th>tmdb_popularity</th>\n",
       "      <th>tmdb_score</th>\n",
       "    </tr>\n",
       "  </thead>\n",
       "  <tbody>\n",
       "    <tr>\n",
       "      <th>11</th>\n",
       "      <td>tm3616</td>\n",
       "      <td>Steamboat Willie</td>\n",
       "      <td>MOVIE</td>\n",
       "      <td>Mickey Mouse, piloting a steamboat, delights h...</td>\n",
       "      <td>1928</td>\n",
       "      <td>G</td>\n",
       "      <td>8</td>\n",
       "      <td>['animation']</td>\n",
       "      <td>['US']</td>\n",
       "      <td>NaN</td>\n",
       "      <td>NaN</td>\n",
       "      <td>NaN</td>\n",
       "      <td>NaN</td>\n",
       "      <td>10.513</td>\n",
       "      <td>7.4</td>\n",
       "    </tr>\n",
       "    <tr>\n",
       "      <th>13</th>\n",
       "      <td>tm71205</td>\n",
       "      <td>How to Play Baseball</td>\n",
       "      <td>MOVIE</td>\n",
       "      <td>Goofy shows us the national pastime. After a b...</td>\n",
       "      <td>1942</td>\n",
       "      <td>NaN</td>\n",
       "      <td>8</td>\n",
       "      <td>['comedy', 'animation']</td>\n",
       "      <td>['US']</td>\n",
       "      <td>NaN</td>\n",
       "      <td>NaN</td>\n",
       "      <td>NaN</td>\n",
       "      <td>NaN</td>\n",
       "      <td>4.179</td>\n",
       "      <td>6.6</td>\n",
       "    </tr>\n",
       "    <tr>\n",
       "      <th>15</th>\n",
       "      <td>tm8579</td>\n",
       "      <td>Ferdinand the Bull</td>\n",
       "      <td>MOVIE</td>\n",
       "      <td>This Oscar-winning short tells of a bull who p...</td>\n",
       "      <td>1938</td>\n",
       "      <td>G</td>\n",
       "      <td>8</td>\n",
       "      <td>['comedy']</td>\n",
       "      <td>['US']</td>\n",
       "      <td>NaN</td>\n",
       "      <td>NaN</td>\n",
       "      <td>NaN</td>\n",
       "      <td>NaN</td>\n",
       "      <td>10.983</td>\n",
       "      <td>6.5</td>\n",
       "    </tr>\n",
       "    <tr>\n",
       "      <th>16</th>\n",
       "      <td>tm134279</td>\n",
       "      <td>Three Little Pigs</td>\n",
       "      <td>MOVIE</td>\n",
       "      <td>The two pigs building houses of hay and sticks...</td>\n",
       "      <td>1933</td>\n",
       "      <td>NaN</td>\n",
       "      <td>8</td>\n",
       "      <td>['comedy']</td>\n",
       "      <td>['US']</td>\n",
       "      <td>NaN</td>\n",
       "      <td>NaN</td>\n",
       "      <td>NaN</td>\n",
       "      <td>NaN</td>\n",
       "      <td>8.883</td>\n",
       "      <td>6.8</td>\n",
       "    </tr>\n",
       "    <tr>\n",
       "      <th>17</th>\n",
       "      <td>tm74410</td>\n",
       "      <td>Tugboat Mickey</td>\n",
       "      <td>MOVIE</td>\n",
       "      <td>Mickey is performing routine maintenance on hi...</td>\n",
       "      <td>1940</td>\n",
       "      <td>NaN</td>\n",
       "      <td>7</td>\n",
       "      <td>['animation', 'family', 'comedy']</td>\n",
       "      <td>['US']</td>\n",
       "      <td>NaN</td>\n",
       "      <td>NaN</td>\n",
       "      <td>NaN</td>\n",
       "      <td>NaN</td>\n",
       "      <td>5.845</td>\n",
       "      <td>6.2</td>\n",
       "    </tr>\n",
       "    <tr>\n",
       "      <th>...</th>\n",
       "      <td>...</td>\n",
       "      <td>...</td>\n",
       "      <td>...</td>\n",
       "      <td>...</td>\n",
       "      <td>...</td>\n",
       "      <td>...</td>\n",
       "      <td>...</td>\n",
       "      <td>...</td>\n",
       "      <td>...</td>\n",
       "      <td>...</td>\n",
       "      <td>...</td>\n",
       "      <td>...</td>\n",
       "      <td>...</td>\n",
       "      <td>...</td>\n",
       "      <td>...</td>\n",
       "    </tr>\n",
       "    <tr>\n",
       "      <th>20496</th>\n",
       "      <td>tm1142918</td>\n",
       "      <td>Ty Barnett: Yep</td>\n",
       "      <td>MOVIE</td>\n",
       "      <td>Ty Barnett, a Chicago native, got his start at...</td>\n",
       "      <td>2021</td>\n",
       "      <td>PG</td>\n",
       "      <td>25</td>\n",
       "      <td>[]</td>\n",
       "      <td>[]</td>\n",
       "      <td>NaN</td>\n",
       "      <td>tt11979448</td>\n",
       "      <td>NaN</td>\n",
       "      <td>NaN</td>\n",
       "      <td>0.600</td>\n",
       "      <td>5.8</td>\n",
       "    </tr>\n",
       "    <tr>\n",
       "      <th>20500</th>\n",
       "      <td>ts295958</td>\n",
       "      <td>GameOn Titans</td>\n",
       "      <td>SHOW</td>\n",
       "      <td>Eight mobile gamers battle it out in a series ...</td>\n",
       "      <td>2021</td>\n",
       "      <td>NaN</td>\n",
       "      <td>17</td>\n",
       "      <td>[]</td>\n",
       "      <td>[]</td>\n",
       "      <td>1.0</td>\n",
       "      <td>tt14747014</td>\n",
       "      <td>NaN</td>\n",
       "      <td>NaN</td>\n",
       "      <td>NaN</td>\n",
       "      <td>NaN</td>\n",
       "    </tr>\n",
       "    <tr>\n",
       "      <th>20502</th>\n",
       "      <td>tm1079144</td>\n",
       "      <td>Jay Nog: Something from Nothing</td>\n",
       "      <td>MOVIE</td>\n",
       "      <td>Something From Nothing takes you on a stand-up...</td>\n",
       "      <td>2021</td>\n",
       "      <td>NaN</td>\n",
       "      <td>55</td>\n",
       "      <td>['comedy']</td>\n",
       "      <td>['US']</td>\n",
       "      <td>NaN</td>\n",
       "      <td>tt15041600</td>\n",
       "      <td>NaN</td>\n",
       "      <td>NaN</td>\n",
       "      <td>0.600</td>\n",
       "      <td>NaN</td>\n",
       "    </tr>\n",
       "    <tr>\n",
       "      <th>20503</th>\n",
       "      <td>tm847725</td>\n",
       "      <td>Chasing</td>\n",
       "      <td>MOVIE</td>\n",
       "      <td>A cop from Chennai sets out to nab a dreaded d...</td>\n",
       "      <td>2021</td>\n",
       "      <td>NaN</td>\n",
       "      <td>116</td>\n",
       "      <td>['crime']</td>\n",
       "      <td>['IN']</td>\n",
       "      <td>NaN</td>\n",
       "      <td>NaN</td>\n",
       "      <td>NaN</td>\n",
       "      <td>NaN</td>\n",
       "      <td>1.960</td>\n",
       "      <td>NaN</td>\n",
       "    </tr>\n",
       "    <tr>\n",
       "      <th>20505</th>\n",
       "      <td>ts275838</td>\n",
       "      <td>Waking Up Eighty</td>\n",
       "      <td>SHOW</td>\n",
       "      <td>Kara Stewart, 16, is fed up with just about ev...</td>\n",
       "      <td>2021</td>\n",
       "      <td>NaN</td>\n",
       "      <td>10</td>\n",
       "      <td>['drama']</td>\n",
       "      <td>[]</td>\n",
       "      <td>1.0</td>\n",
       "      <td>tt13542552</td>\n",
       "      <td>NaN</td>\n",
       "      <td>NaN</td>\n",
       "      <td>NaN</td>\n",
       "      <td>NaN</td>\n",
       "    </tr>\n",
       "  </tbody>\n",
       "</table>\n",
       "<p>2343 rows × 15 columns</p>\n",
       "</div>"
      ],
      "text/plain": [
       "              id                            title   type  \\\n",
       "11        tm3616                 Steamboat Willie  MOVIE   \n",
       "13       tm71205             How to Play Baseball  MOVIE   \n",
       "15        tm8579               Ferdinand the Bull  MOVIE   \n",
       "16      tm134279                Three Little Pigs  MOVIE   \n",
       "17       tm74410                   Tugboat Mickey  MOVIE   \n",
       "...          ...                              ...    ...   \n",
       "20496  tm1142918                  Ty Barnett: Yep  MOVIE   \n",
       "20500   ts295958                    GameOn Titans   SHOW   \n",
       "20502  tm1079144  Jay Nog: Something from Nothing  MOVIE   \n",
       "20503   tm847725                          Chasing  MOVIE   \n",
       "20505   ts275838                 Waking Up Eighty   SHOW   \n",
       "\n",
       "                                             description  release_year  \\\n",
       "11     Mickey Mouse, piloting a steamboat, delights h...          1928   \n",
       "13     Goofy shows us the national pastime. After a b...          1942   \n",
       "15     This Oscar-winning short tells of a bull who p...          1938   \n",
       "16     The two pigs building houses of hay and sticks...          1933   \n",
       "17     Mickey is performing routine maintenance on hi...          1940   \n",
       "...                                                  ...           ...   \n",
       "20496  Ty Barnett, a Chicago native, got his start at...          2021   \n",
       "20500  Eight mobile gamers battle it out in a series ...          2021   \n",
       "20502  Something From Nothing takes you on a stand-up...          2021   \n",
       "20503  A cop from Chennai sets out to nab a dreaded d...          2021   \n",
       "20505  Kara Stewart, 16, is fed up with just about ev...          2021   \n",
       "\n",
       "      age_certification  runtime                             genres  \\\n",
       "11                    G        8                      ['animation']   \n",
       "13                  NaN        8            ['comedy', 'animation']   \n",
       "15                    G        8                         ['comedy']   \n",
       "16                  NaN        8                         ['comedy']   \n",
       "17                  NaN        7  ['animation', 'family', 'comedy']   \n",
       "...                 ...      ...                                ...   \n",
       "20496                PG       25                                 []   \n",
       "20500               NaN       17                                 []   \n",
       "20502               NaN       55                         ['comedy']   \n",
       "20503               NaN      116                          ['crime']   \n",
       "20505               NaN       10                          ['drama']   \n",
       "\n",
       "      production_countries  seasons     imdb_id  imdb_score  imdb_votes  \\\n",
       "11                  ['US']      NaN         NaN         NaN         NaN   \n",
       "13                  ['US']      NaN         NaN         NaN         NaN   \n",
       "15                  ['US']      NaN         NaN         NaN         NaN   \n",
       "16                  ['US']      NaN         NaN         NaN         NaN   \n",
       "17                  ['US']      NaN         NaN         NaN         NaN   \n",
       "...                    ...      ...         ...         ...         ...   \n",
       "20496                   []      NaN  tt11979448         NaN         NaN   \n",
       "20500                   []      1.0  tt14747014         NaN         NaN   \n",
       "20502               ['US']      NaN  tt15041600         NaN         NaN   \n",
       "20503               ['IN']      NaN         NaN         NaN         NaN   \n",
       "20505                   []      1.0  tt13542552         NaN         NaN   \n",
       "\n",
       "       tmdb_popularity  tmdb_score  \n",
       "11              10.513         7.4  \n",
       "13               4.179         6.6  \n",
       "15              10.983         6.5  \n",
       "16               8.883         6.8  \n",
       "17               5.845         6.2  \n",
       "...                ...         ...  \n",
       "20496            0.600         5.8  \n",
       "20500              NaN         NaN  \n",
       "20502            0.600         NaN  \n",
       "20503            1.960         NaN  \n",
       "20505              NaN         NaN  \n",
       "\n",
       "[2343 rows x 15 columns]"
      ]
     },
     "execution_count": 30,
     "metadata": {},
     "output_type": "execute_result"
    }
   ],
   "source": [
    "final_titles[final_titles['imdb_score'].isna()]"
   ]
  },
  {
   "cell_type": "code",
   "execution_count": null,
   "metadata": {},
   "outputs": [],
   "source": []
  }
 ],
 "metadata": {
  "kernelspec": {
   "display_name": "Python 3.9.7 ('base')",
   "language": "python",
   "name": "python3"
  },
  "language_info": {
   "codemirror_mode": {
    "name": "ipython",
    "version": 3
   },
   "file_extension": ".py",
   "mimetype": "text/x-python",
   "name": "python",
   "nbconvert_exporter": "python",
   "pygments_lexer": "ipython3",
   "version": "3.9.7"
  },
  "orig_nbformat": 4,
  "vscode": {
   "interpreter": {
    "hash": "73d3bef864f382a2df41f41f3472861f35932081d9a4b85fe713585889039895"
   }
  }
 },
 "nbformat": 4,
 "nbformat_minor": 2
}
